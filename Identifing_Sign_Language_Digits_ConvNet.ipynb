{
  "nbformat": 4,
  "nbformat_minor": 0,
  "metadata": {
    "colab": {
      "provenance": []
    },
    "kernelspec": {
      "name": "python3",
      "display_name": "Python 3"
    },
    "language_info": {
      "name": "python"
    }
  },
  "cells": [
    {
      "cell_type": "markdown",
      "source": [
        "#Identifing Sign Language Digits using ConvNet"
      ],
      "metadata": {
        "id": "x84fJv22rOcb"
      }
    },
    {
      "cell_type": "markdown",
      "source": [
        "## *Importing the Packages*"
      ],
      "metadata": {
        "id": "qVSDxxj7rWpO"
      }
    },
    {
      "cell_type": "code",
      "execution_count": 1,
      "metadata": {
        "id": "-iYpSIPoMukc"
      },
      "outputs": [],
      "source": [
        "import math\n",
        "import numpy as np\n",
        "import h5py\n",
        "import matplotlib.pyplot as plt\n",
        "from matplotlib.pyplot import imread\n",
        "import scipy\n",
        "from PIL import Image\n",
        "import pandas as pd\n",
        "import tensorflow as tf\n",
        "import tensorflow.keras.layers as tfl\n",
        "from tensorflow.python.framework import ops\n",
        "from cnn_utils import *\n",
        "from test_utils import summary, comparator\n",
        "\n",
        "%matplotlib inline\n",
        "np.random.seed(1)\n"
      ]
    },
    {
      "cell_type": "markdown",
      "source": [
        "*We can display images in the dataset, images are 64x64 in RGB format*"
      ],
      "metadata": {
        "id": "wJ_JXjXFOmz1"
      }
    },
    {
      "cell_type": "markdown",
      "source": [
        "## The Functional API\n",
        "This Keras API can be used for non-sequential propogation. This can also be interpretted as the skip connection b/w layers. Like, output of one layer can go as an input after skipping some layers.In this, nodes are connected as a Graph(which is non linear)."
      ],
      "metadata": {
        "id": "PZpfTVVkXhCK"
      }
    },
    {
      "cell_type": "markdown",
      "source": [
        "### Load the Signs Dataset\n",
        "The Signs dataset comprises of 6 signs, which are numbers from 0 to 5."
      ],
      "metadata": {
        "id": "t9fCDptlbCF0"
      }
    },
    {
      "cell_type": "code",
      "source": [
        "X_train_orig, Y_train_orig, X_test_orig, Y_test_orig, classes=load_signs_dataset()"
      ],
      "metadata": {
        "id": "oq2ghUs7bY8P"
      },
      "execution_count": 66,
      "outputs": []
    },
    {
      "cell_type": "markdown",
      "source": [
        "Let's take some example of image from the dataset"
      ],
      "metadata": {
        "id": "iclL3VdTbktT"
      }
    },
    {
      "cell_type": "code",
      "source": [
        "Y_train_orig.shape"
      ],
      "metadata": {
        "colab": {
          "base_uri": "https://localhost:8080/"
        },
        "id": "9yho4_N1buzw",
        "outputId": "631b902e-66aa-490e-c880-a12892e3706f"
      },
      "execution_count": 67,
      "outputs": [
        {
          "output_type": "execute_result",
          "data": {
            "text/plain": [
              "(1, 1080)"
            ]
          },
          "metadata": {},
          "execution_count": 67
        }
      ]
    },
    {
      "cell_type": "code",
      "source": [
        "index=5\n",
        "plt.imshow(X_train_orig[index])\n",
        "print(f\"y= {np.squeeze(Y_train_orig[:, index])}\")\n",
        "plt.show()"
      ],
      "metadata": {
        "colab": {
          "base_uri": "https://localhost:8080/",
          "height": 449
        },
        "id": "hfF5wky0cHbw",
        "outputId": "09cbed45-5f15-4758-963f-47f5a7c8edd9"
      },
      "execution_count": 68,
      "outputs": [
        {
          "output_type": "stream",
          "name": "stdout",
          "text": [
            "y= 4\n"
          ]
        },
        {
          "output_type": "display_data",
          "data": {
            "text/plain": [
              "<Figure size 640x480 with 1 Axes>"
            ],
            "image/png": "[encoded data removed]"
          },
          "metadata": {}
        }
      ]
    },
    {
      "cell_type": "markdown",
      "source": [
        "### Split into Train/Test Sets"
      ],
      "metadata": {
        "id": "3b-W2nxvcecW"
      }
    },
    {
      "cell_type": "code",
      "source": [
        "X_train=X_train_orig/255.\n",
        "X_test=X_test_orig/255.\n",
        "\n",
        "Y_train=convert_to_one_hot(Y_train_orig, 6).T\n",
        "Y_test=convert_to_one_hot(Y_test_orig, 6).T\n",
        "\n",
        "print(f\"No. of training examples in train set: {X_train.shape[0]}\")\n",
        "print(f\"No. of test examples in test set: {X_test.shape[0]}\")\n",
        "\n",
        "print(f\"X_train shape: {X_train.shape}\")\n",
        "print(f\"X_test shape: {X_test.shape}\")\n",
        "print(f\"Y_train shape: {Y_train.shape}\")\n",
        "print(f\"Y_test shape: {Y_test.shape}\")"
      ],
      "metadata": {
        "colab": {
          "base_uri": "https://localhost:8080/"
        },
        "id": "0DleOaDhd00Z",
        "outputId": "f40668f3-e851-4f2d-8227-fbe19b1ad5f9"
      },
      "execution_count": 70,
      "outputs": [
        {
          "output_type": "stream",
          "name": "stdout",
          "text": [
            "No. of training examples in train set: 1080\n",
            "No. of test examples in test set: 120\n",
            "X_train shape: (1080, 64, 64, 3)\n",
            "X_test shape: (120, 64, 64, 3)\n",
            "Y_train shape: (1080, 6)\n",
            "Y_test shape: (120, 6)\n"
          ]
        }
      ]
    },
    {
      "cell_type": "markdown",
      "source": [
        "### Convolution Model\n",
        "\n",
        "* Conv2D: Use 8 4 by 4 filters, stride 1, padding is \"SAME\"\n",
        "* ReLU\n",
        "* MaxPool2D: Use an 8 by 8 filter size and an 8 by 8 stride, padding is \"SAME\"\n",
        "* Conv2D: Use 16 2 by 2 filters, stride 1, padding is \"SAME\"\n",
        "* ReLU\n",
        "* MaxPool2D: Use a 4 by 4 filter size and a 4 by 4 stride, padding is \"SAME\"\n",
        "* Flatten the previous output.\n",
        "* Fully-connected (Dense) layer: Apply a fully connected layer with 6 neurons and a softmax activation."
      ],
      "metadata": {
        "id": "T_F7X2rcd8id"
      }
    },
    {
      "cell_type": "code",
      "source": [
        "def convolutional_model(input_shape):\n",
        "  input_img=tf.keras.Input(shape=input_shape)\n",
        "  Z1 = tfl.Conv2D(8, 4, activation='linear', padding=\"same\", strides=1)(input_img)\n",
        "  A1 = tfl.ReLU()(Z1)\n",
        "  P1 = tfl.MaxPool2D(pool_size=(8, 8), strides=(8, 8), padding='same')(A1)\n",
        "  Z2 = tfl.Conv2D(16, 2, activation='linear', padding=\"same\", strides=1)(P1)\n",
        "  A2 = tfl.ReLU()(Z2)\n",
        "  P2 = tfl.MaxPool2D(pool_size=(4, 4), strides=(4, 4), padding='same')(A2)\n",
        "  F = tfl.Flatten()(P2)\n",
        "  outputs = tfl.Dense(6, activation='softmax')(F)\n",
        "  model = tf.keras.Model(inputs=input_img, outputs=outputs)\n",
        "  return model"
      ],
      "metadata": {
        "id": "dWDVt7iTgUEb"
      },
      "execution_count": 60,
      "outputs": []
    },
    {
      "cell_type": "code",
      "source": [
        "conv_model=convolutional_model((64, 64, 3))\n",
        "conv_model.compile(optimizer='adam', loss='categorical_crossentropy', metrics=['accuracy'])\n",
        "\n",
        "conv_model.summary()"
      ],
      "metadata": {
        "colab": {
          "base_uri": "https://localhost:8080/",
          "height": 417
        },
        "id": "yMaH7zLKjF2i",
        "outputId": "d1ccb1a5-7255-4877-a74b-d23fadc39a63"
      },
      "execution_count": 61,
      "outputs": [
        {
          "output_type": "display_data",
          "data": {
            "text/plain": [
              "\u001b[1mModel: \"functional_10\"\u001b[0m\n"
            ],
            "text/html": [
              "<pre style=\"white-space:pre;overflow-x:auto;line-height:normal;font-family:Menlo,'DejaVu Sans Mono',consolas,'Courier New',monospace\"><span style=\"font-weight: bold\">Model: \"functional_10\"</span>\n",
              "</pre>\n"
            ]
          },
          "metadata": {}
        },
        {
          "output_type": "display_data",
          "data": {
            "text/plain": [
              "┏━━━━━━━━━━━━━━━━━━━━━━━━━━━━━━━━━┳━━━━━━━━━━━━━━━━━━━━━━━━┳━━━━━━━━━━━━━━━┓\n",
              "┃\u001b[1m \u001b[0m\u001b[1mLayer (type)                   \u001b[0m\u001b[1m \u001b[0m┃\u001b[1m \u001b[0m\u001b[1mOutput Shape          \u001b[0m\u001b[1m \u001b[0m┃\u001b[1m \u001b[0m\u001b[1m      Param #\u001b[0m\u001b[1m \u001b[0m┃\n",
              "┡━━━━━━━━━━━━━━━━━━━━━━━━━━━━━━━━━╇━━━━━━━━━━━━━━━━━━━━━━━━╇━━━━━━━━━━━━━━━┩\n",
              "│ input_layer_12 (\u001b[38;5;33mInputLayer\u001b[0m)     │ (\u001b[38;5;45mNone\u001b[0m, \u001b[38;5;34m64\u001b[0m, \u001b[38;5;34m64\u001b[0m, \u001b[38;5;34m3\u001b[0m)      │             \u001b[38;5;34m0\u001b[0m │\n",
              "├─────────────────────────────────┼────────────────────────┼───────────────┤\n",
              "│ conv2d_16 (\u001b[38;5;33mConv2D\u001b[0m)              │ (\u001b[38;5;45mNone\u001b[0m, \u001b[38;5;34m64\u001b[0m, \u001b[38;5;34m64\u001b[0m, \u001b[38;5;34m8\u001b[0m)      │           \u001b[38;5;34m392\u001b[0m │\n",
              "├─────────────────────────────────┼────────────────────────┼───────────────┤\n",
              "│ re_lu_14 (\u001b[38;5;33mReLU\u001b[0m)                 │ (\u001b[38;5;45mNone\u001b[0m, \u001b[38;5;34m64\u001b[0m, \u001b[38;5;34m64\u001b[0m, \u001b[38;5;34m8\u001b[0m)      │             \u001b[38;5;34m0\u001b[0m │\n",
              "├─────────────────────────────────┼────────────────────────┼───────────────┤\n",
              "│ max_pooling2d_12 (\u001b[38;5;33mMaxPooling2D\u001b[0m) │ (\u001b[38;5;45mNone\u001b[0m, \u001b[38;5;34m8\u001b[0m, \u001b[38;5;34m8\u001b[0m, \u001b[38;5;34m8\u001b[0m)        │             \u001b[38;5;34m0\u001b[0m │\n",
              "├─────────────────────────────────┼────────────────────────┼───────────────┤\n",
              "│ conv2d_17 (\u001b[38;5;33mConv2D\u001b[0m)              │ (\u001b[38;5;45mNone\u001b[0m, \u001b[38;5;34m8\u001b[0m, \u001b[38;5;34m8\u001b[0m, \u001b[38;5;34m16\u001b[0m)       │           \u001b[38;5;34m528\u001b[0m │\n",
              "├─────────────────────────────────┼────────────────────────┼───────────────┤\n",
              "│ re_lu_15 (\u001b[38;5;33mReLU\u001b[0m)                 │ (\u001b[38;5;45mNone\u001b[0m, \u001b[38;5;34m8\u001b[0m, \u001b[38;5;34m8\u001b[0m, \u001b[38;5;34m16\u001b[0m)       │             \u001b[38;5;34m0\u001b[0m │\n",
              "├─────────────────────────────────┼────────────────────────┼───────────────┤\n",
              "│ max_pooling2d_13 (\u001b[38;5;33mMaxPooling2D\u001b[0m) │ (\u001b[38;5;45mNone\u001b[0m, \u001b[38;5;34m2\u001b[0m, \u001b[38;5;34m2\u001b[0m, \u001b[38;5;34m16\u001b[0m)       │             \u001b[38;5;34m0\u001b[0m │\n",
              "├─────────────────────────────────┼────────────────────────┼───────────────┤\n",
              "│ flatten_10 (\u001b[38;5;33mFlatten\u001b[0m)            │ (\u001b[38;5;45mNone\u001b[0m, \u001b[38;5;34m64\u001b[0m)             │             \u001b[38;5;34m0\u001b[0m │\n",
              "├─────────────────────────────────┼────────────────────────┼───────────────┤\n",
              "│ dense_10 (\u001b[38;5;33mDense\u001b[0m)                │ (\u001b[38;5;45mNone\u001b[0m, \u001b[38;5;34m6\u001b[0m)              │           \u001b[38;5;34m390\u001b[0m │\n",
              "└─────────────────────────────────┴────────────────────────┴───────────────┘\n"
            ],
            "text/html": [
              "<pre style=\"white-space:pre;overflow-x:auto;line-height:normal;font-family:Menlo,'DejaVu Sans Mono',consolas,'Courier New',monospace\">┏━━━━━━━━━━━━━━━━━━━━━━━━━━━━━━━━━┳━━━━━━━━━━━━━━━━━━━━━━━━┳━━━━━━━━━━━━━━━┓\n",
              "┃<span style=\"font-weight: bold\"> Layer (type)                    </span>┃<span style=\"font-weight: bold\"> Output Shape           </span>┃<span style=\"font-weight: bold\">       Param # </span>┃\n",
              "┡━━━━━━━━━━━━━━━━━━━━━━━━━━━━━━━━━╇━━━━━━━━━━━━━━━━━━━━━━━━╇━━━━━━━━━━━━━━━┩\n",
              "│ input_layer_12 (<span style=\"color: #0087ff; text-decoration-color: #0087ff\">InputLayer</span>)     │ (<span style=\"color: #00d7ff; text-decoration-color: #00d7ff\">None</span>, <span style=\"color: #00af00; text-decoration-color: #00af00\">64</span>, <span style=\"color: #00af00; text-decoration-color: #00af00\">64</span>, <span style=\"color: #00af00; text-decoration-color: #00af00\">3</span>)      │             <span style=\"color: #00af00; text-decoration-color: #00af00\">0</span> │\n",
              "├─────────────────────────────────┼────────────────────────┼───────────────┤\n",
              "│ conv2d_16 (<span style=\"color: #0087ff; text-decoration-color: #0087ff\">Conv2D</span>)              │ (<span style=\"color: #00d7ff; text-decoration-color: #00d7ff\">None</span>, <span style=\"color: #00af00; text-decoration-color: #00af00\">64</span>, <span style=\"color: #00af00; text-decoration-color: #00af00\">64</span>, <span style=\"color: #00af00; text-decoration-color: #00af00\">8</span>)      │           <span style=\"color: #00af00; text-decoration-color: #00af00\">392</span> │\n",
              "├─────────────────────────────────┼────────────────────────┼───────────────┤\n",
              "│ re_lu_14 (<span style=\"color: #0087ff; text-decoration-color: #0087ff\">ReLU</span>)                 │ (<span style=\"color: #00d7ff; text-decoration-color: #00d7ff\">None</span>, <span style=\"color: #00af00; text-decoration-color: #00af00\">64</span>, <span style=\"color: #00af00; text-decoration-color: #00af00\">64</span>, <span style=\"color: #00af00; text-decoration-color: #00af00\">8</span>)      │             <span style=\"color: #00af00; text-decoration-color: #00af00\">0</span> │\n",
              "├─────────────────────────────────┼────────────────────────┼───────────────┤\n",
              "│ max_pooling2d_12 (<span style=\"color: #0087ff; text-decoration-color: #0087ff\">MaxPooling2D</span>) │ (<span style=\"color: #00d7ff; text-decoration-color: #00d7ff\">None</span>, <span style=\"color: #00af00; text-decoration-color: #00af00\">8</span>, <span style=\"color: #00af00; text-decoration-color: #00af00\">8</span>, <span style=\"color: #00af00; text-decoration-color: #00af00\">8</span>)        │             <span style=\"color: #00af00; text-decoration-color: #00af00\">0</span> │\n",
              "├─────────────────────────────────┼────────────────────────┼───────────────┤\n",
              "│ conv2d_17 (<span style=\"color: #0087ff; text-decoration-color: #0087ff\">Conv2D</span>)              │ (<span style=\"color: #00d7ff; text-decoration-color: #00d7ff\">None</span>, <span style=\"color: #00af00; text-decoration-color: #00af00\">8</span>, <span style=\"color: #00af00; text-decoration-color: #00af00\">8</span>, <span style=\"color: #00af00; text-decoration-color: #00af00\">16</span>)       │           <span style=\"color: #00af00; text-decoration-color: #00af00\">528</span> │\n",
              "├─────────────────────────────────┼────────────────────────┼───────────────┤\n",
              "│ re_lu_15 (<span style=\"color: #0087ff; text-decoration-color: #0087ff\">ReLU</span>)                 │ (<span style=\"color: #00d7ff; text-decoration-color: #00d7ff\">None</span>, <span style=\"color: #00af00; text-decoration-color: #00af00\">8</span>, <span style=\"color: #00af00; text-decoration-color: #00af00\">8</span>, <span style=\"color: #00af00; text-decoration-color: #00af00\">16</span>)       │             <span style=\"color: #00af00; text-decoration-color: #00af00\">0</span> │\n",
              "├─────────────────────────────────┼────────────────────────┼───────────────┤\n",
              "│ max_pooling2d_13 (<span style=\"color: #0087ff; text-decoration-color: #0087ff\">MaxPooling2D</span>) │ (<span style=\"color: #00d7ff; text-decoration-color: #00d7ff\">None</span>, <span style=\"color: #00af00; text-decoration-color: #00af00\">2</span>, <span style=\"color: #00af00; text-decoration-color: #00af00\">2</span>, <span style=\"color: #00af00; text-decoration-color: #00af00\">16</span>)       │             <span style=\"color: #00af00; text-decoration-color: #00af00\">0</span> │\n",
              "├─────────────────────────────────┼────────────────────────┼───────────────┤\n",
              "│ flatten_10 (<span style=\"color: #0087ff; text-decoration-color: #0087ff\">Flatten</span>)            │ (<span style=\"color: #00d7ff; text-decoration-color: #00d7ff\">None</span>, <span style=\"color: #00af00; text-decoration-color: #00af00\">64</span>)             │             <span style=\"color: #00af00; text-decoration-color: #00af00\">0</span> │\n",
              "├─────────────────────────────────┼────────────────────────┼───────────────┤\n",
              "│ dense_10 (<span style=\"color: #0087ff; text-decoration-color: #0087ff\">Dense</span>)                │ (<span style=\"color: #00d7ff; text-decoration-color: #00d7ff\">None</span>, <span style=\"color: #00af00; text-decoration-color: #00af00\">6</span>)              │           <span style=\"color: #00af00; text-decoration-color: #00af00\">390</span> │\n",
              "└─────────────────────────────────┴────────────────────────┴───────────────┘\n",
              "</pre>\n"
            ]
          },
          "metadata": {}
        },
        {
          "output_type": "display_data",
          "data": {
            "text/plain": [
              "\u001b[1m Total params: \u001b[0m\u001b[38;5;34m1,310\u001b[0m (5.12 KB)\n"
            ],
            "text/html": [
              "<pre style=\"white-space:pre;overflow-x:auto;line-height:normal;font-family:Menlo,'DejaVu Sans Mono',consolas,'Courier New',monospace\"><span style=\"font-weight: bold\"> Total params: </span><span style=\"color: #00af00; text-decoration-color: #00af00\">1,310</span> (5.12 KB)\n",
              "</pre>\n"
            ]
          },
          "metadata": {}
        },
        {
          "output_type": "display_data",
          "data": {
            "text/plain": [
              "\u001b[1m Trainable params: \u001b[0m\u001b[38;5;34m1,310\u001b[0m (5.12 KB)\n"
            ],
            "text/html": [
              "<pre style=\"white-space:pre;overflow-x:auto;line-height:normal;font-family:Menlo,'DejaVu Sans Mono',consolas,'Courier New',monospace\"><span style=\"font-weight: bold\"> Trainable params: </span><span style=\"color: #00af00; text-decoration-color: #00af00\">1,310</span> (5.12 KB)\n",
              "</pre>\n"
            ]
          },
          "metadata": {}
        },
        {
          "output_type": "display_data",
          "data": {
            "text/plain": [
              "\u001b[1m Non-trainable params: \u001b[0m\u001b[38;5;34m0\u001b[0m (0.00 B)\n"
            ],
            "text/html": [
              "<pre style=\"white-space:pre;overflow-x:auto;line-height:normal;font-family:Menlo,'DejaVu Sans Mono',consolas,'Courier New',monospace\"><span style=\"font-weight: bold\"> Non-trainable params: </span><span style=\"color: #00af00; text-decoration-color: #00af00\">0</span> (0.00 B)\n",
              "</pre>\n"
            ]
          },
          "metadata": {}
        }
      ]
    },
    {
      "cell_type": "markdown",
      "source": [
        "### Train the Model"
      ],
      "metadata": {
        "id": "pDEj9j0Zjupk"
      }
    },
    {
      "cell_type": "code",
      "source": [
        "train_dataset = tf.data.Dataset.from_tensor_slices((X_train, Y_train)).batch(64)\n",
        "test_dataset = tf.data.Dataset.from_tensor_slices((X_test, Y_test)).batch(64)\n",
        "history = conv_model.fit(train_dataset, epochs=100, validation_data=test_dataset)"
      ],
      "metadata": {
        "colab": {
          "base_uri": "https://localhost:8080/"
        },
        "id": "K90mvekfkjeV",
        "outputId": "4a01b2f3-9b0e-411b-94ae-530749e91b49"
      },
      "execution_count": 71,
      "outputs": [
        {
          "output_type": "stream",
          "name": "stdout",
          "text": [
            "Epoch 1/100\n",
            "\u001b[1m17/17\u001b[0m \u001b[32m━━━━━━━━━━━━━━━━━━━━\u001b[0m\u001b[37m\u001b[0m \u001b[1m4s\u001b[0m 140ms/step - accuracy: 0.1614 - loss: 1.7964 - val_accuracy: 0.1750 - val_loss: 1.7830\n",
            "Epoch 2/100\n",
            "\u001b[1m17/17\u001b[0m \u001b[32m━━━━━━━━━━━━━━━━━━━━\u001b[0m\u001b[37m\u001b[0m \u001b[1m2s\u001b[0m 98ms/step - accuracy: 0.1612 - loss: 1.7854 - val_accuracy: 0.1250 - val_loss: 1.7782\n",
            "Epoch 3/100\n",
            "\u001b[1m17/17\u001b[0m \u001b[32m━━━━━━━━━━━━━━━━━━━━\u001b[0m\u001b[37m\u001b[0m \u001b[1m2s\u001b[0m 101ms/step - accuracy: 0.1965 - loss: 1.7814 - val_accuracy: 0.1583 - val_loss: 1.7735\n",
            "Epoch 4/100\n",
            "\u001b[1m17/17\u001b[0m \u001b[32m━━━━━━━━━━━━━━━━━━━━\u001b[0m\u001b[37m\u001b[0m \u001b[1m2s\u001b[0m 102ms/step - accuracy: 0.2275 - loss: 1.7772 - val_accuracy: 0.1917 - val_loss: 1.7675\n",
            "Epoch 5/100\n",
            "\u001b[1m17/17\u001b[0m \u001b[32m━━━━━━━━━━━━━━━━━━━━\u001b[0m\u001b[37m\u001b[0m \u001b[1m2s\u001b[0m 97ms/step - accuracy: 0.2366 - loss: 1.7718 - val_accuracy: 0.2833 - val_loss: 1.7594\n",
            "Epoch 6/100\n",
            "\u001b[1m17/17\u001b[0m \u001b[32m━━━━━━━━━━━━━━━━━━━━\u001b[0m\u001b[37m\u001b[0m \u001b[1m2s\u001b[0m 96ms/step - accuracy: 0.2839 - loss: 1.7657 - val_accuracy: 0.3250 - val_loss: 1.7521\n",
            "Epoch 7/100\n",
            "\u001b[1m17/17\u001b[0m \u001b[32m━━━━━━━━━━━━━━━━━━━━\u001b[0m\u001b[37m\u001b[0m \u001b[1m3s\u001b[0m 141ms/step - accuracy: 0.3075 - loss: 1.7580 - val_accuracy: 0.3417 - val_loss: 1.7436\n",
            "Epoch 8/100\n",
            "\u001b[1m17/17\u001b[0m \u001b[32m━━━━━━━━━━━━━━━━━━━━\u001b[0m\u001b[37m\u001b[0m \u001b[1m2s\u001b[0m 97ms/step - accuracy: 0.3373 - loss: 1.7498 - val_accuracy: 0.3583 - val_loss: 1.7331\n",
            "Epoch 9/100\n",
            "\u001b[1m17/17\u001b[0m \u001b[32m━━━━━━━━━━━━━━━━━━━━\u001b[0m\u001b[37m\u001b[0m \u001b[1m2s\u001b[0m 97ms/step - accuracy: 0.3582 - loss: 1.7399 - val_accuracy: 0.3833 - val_loss: 1.7211\n",
            "Epoch 10/100\n",
            "\u001b[1m17/17\u001b[0m \u001b[32m━━━━━━━━━━━━━━━━━━━━\u001b[0m\u001b[37m\u001b[0m \u001b[1m2s\u001b[0m 97ms/step - accuracy: 0.3883 - loss: 1.7282 - val_accuracy: 0.4667 - val_loss: 1.7061\n",
            "Epoch 11/100\n",
            "\u001b[1m17/17\u001b[0m \u001b[32m━━━━━━━━━━━━━━━━━━━━\u001b[0m\u001b[37m\u001b[0m \u001b[1m2s\u001b[0m 96ms/step - accuracy: 0.4083 - loss: 1.7142 - val_accuracy: 0.4333 - val_loss: 1.6904\n",
            "Epoch 12/100\n",
            "\u001b[1m17/17\u001b[0m \u001b[32m━━━━━━━━━━━━━━━━━━━━\u001b[0m\u001b[37m\u001b[0m \u001b[1m2s\u001b[0m 96ms/step - accuracy: 0.4253 - loss: 1.6976 - val_accuracy: 0.4667 - val_loss: 1.6660\n",
            "Epoch 13/100\n",
            "\u001b[1m17/17\u001b[0m \u001b[32m━━━━━━━━━━━━━━━━━━━━\u001b[0m\u001b[37m\u001b[0m \u001b[1m2s\u001b[0m 108ms/step - accuracy: 0.4527 - loss: 1.6738 - val_accuracy: 0.4917 - val_loss: 1.6388\n",
            "Epoch 14/100\n",
            "\u001b[1m17/17\u001b[0m \u001b[32m━━━━━━━━━━━━━━━━━━━━\u001b[0m\u001b[37m\u001b[0m \u001b[1m3s\u001b[0m 149ms/step - accuracy: 0.4532 - loss: 1.6470 - val_accuracy: 0.5167 - val_loss: 1.6049\n",
            "Epoch 15/100\n",
            "\u001b[1m17/17\u001b[0m \u001b[32m━━━━━━━━━━━━━━━━━━━━\u001b[0m\u001b[37m\u001b[0m \u001b[1m4s\u001b[0m 97ms/step - accuracy: 0.4740 - loss: 1.6137 - val_accuracy: 0.5333 - val_loss: 1.5712\n",
            "Epoch 16/100\n",
            "\u001b[1m17/17\u001b[0m \u001b[32m━━━━━━━━━━━━━━━━━━━━\u001b[0m\u001b[37m\u001b[0m \u001b[1m3s\u001b[0m 98ms/step - accuracy: 0.4741 - loss: 1.5787 - val_accuracy: 0.5083 - val_loss: 1.5340\n",
            "Epoch 17/100\n",
            "\u001b[1m17/17\u001b[0m \u001b[32m━━━━━━━━━━━━━━━━━━━━\u001b[0m\u001b[37m\u001b[0m \u001b[1m2s\u001b[0m 96ms/step - accuracy: 0.4929 - loss: 1.5417 - val_accuracy: 0.5167 - val_loss: 1.4962\n",
            "Epoch 18/100\n",
            "\u001b[1m17/17\u001b[0m \u001b[32m━━━━━━━━━━━━━━━━━━━━\u001b[0m\u001b[37m\u001b[0m \u001b[1m2s\u001b[0m 113ms/step - accuracy: 0.4940 - loss: 1.5036 - val_accuracy: 0.5417 - val_loss: 1.4586\n",
            "Epoch 19/100\n",
            "\u001b[1m17/17\u001b[0m \u001b[32m━━━━━━━━━━━━━━━━━━━━\u001b[0m\u001b[37m\u001b[0m \u001b[1m3s\u001b[0m 117ms/step - accuracy: 0.4968 - loss: 1.4665 - val_accuracy: 0.5417 - val_loss: 1.4163\n",
            "Epoch 20/100\n",
            "\u001b[1m17/17\u001b[0m \u001b[32m━━━━━━━━━━━━━━━━━━━━\u001b[0m\u001b[37m\u001b[0m \u001b[1m2s\u001b[0m 96ms/step - accuracy: 0.4995 - loss: 1.4249 - val_accuracy: 0.5833 - val_loss: 1.3714\n",
            "Epoch 21/100\n",
            "\u001b[1m17/17\u001b[0m \u001b[32m━━━━━━━━━━━━━━━━━━━━\u001b[0m\u001b[37m\u001b[0m \u001b[1m2s\u001b[0m 97ms/step - accuracy: 0.5467 - loss: 1.3789 - val_accuracy: 0.5750 - val_loss: 1.3293\n",
            "Epoch 22/100\n",
            "\u001b[1m17/17\u001b[0m \u001b[32m━━━━━━━━━━━━━━━━━━━━\u001b[0m\u001b[37m\u001b[0m \u001b[1m2s\u001b[0m 96ms/step - accuracy: 0.5714 - loss: 1.3354 - val_accuracy: 0.5917 - val_loss: 1.2858\n",
            "Epoch 23/100\n",
            "\u001b[1m17/17\u001b[0m \u001b[32m━━━━━━━━━━━━━━━━━━━━\u001b[0m\u001b[37m\u001b[0m \u001b[1m2s\u001b[0m 97ms/step - accuracy: 0.5903 - loss: 1.2889 - val_accuracy: 0.6000 - val_loss: 1.2434\n",
            "Epoch 24/100\n",
            "\u001b[1m17/17\u001b[0m \u001b[32m━━━━━━━━━━━━━━━━━━━━\u001b[0m\u001b[37m\u001b[0m \u001b[1m3s\u001b[0m 104ms/step - accuracy: 0.6089 - loss: 1.2488 - val_accuracy: 0.6417 - val_loss: 1.2040\n",
            "Epoch 25/100\n",
            "\u001b[1m17/17\u001b[0m \u001b[32m━━━━━━━━━━━━━━━━━━━━\u001b[0m\u001b[37m\u001b[0m \u001b[1m3s\u001b[0m 122ms/step - accuracy: 0.6165 - loss: 1.2107 - val_accuracy: 0.6250 - val_loss: 1.1628\n",
            "Epoch 26/100\n",
            "\u001b[1m17/17\u001b[0m \u001b[32m━━━━━━━━━━━━━━━━━━━━\u001b[0m\u001b[37m\u001b[0m \u001b[1m2s\u001b[0m 102ms/step - accuracy: 0.6317 - loss: 1.1742 - val_accuracy: 0.6250 - val_loss: 1.1295\n",
            "Epoch 27/100\n",
            "\u001b[1m17/17\u001b[0m \u001b[32m━━━━━━━━━━━━━━━━━━━━\u001b[0m\u001b[37m\u001b[0m \u001b[1m2s\u001b[0m 96ms/step - accuracy: 0.6430 - loss: 1.1390 - val_accuracy: 0.6500 - val_loss: 1.0908\n",
            "Epoch 28/100\n",
            "\u001b[1m17/17\u001b[0m \u001b[32m━━━━━━━━━━━━━━━━━━━━\u001b[0m\u001b[37m\u001b[0m \u001b[1m2s\u001b[0m 97ms/step - accuracy: 0.6618 - loss: 1.1055 - val_accuracy: 0.6667 - val_loss: 1.0611\n",
            "Epoch 29/100\n",
            "\u001b[1m17/17\u001b[0m \u001b[32m━━━━━━━━━━━━━━━━━━━━\u001b[0m\u001b[37m\u001b[0m \u001b[1m2s\u001b[0m 97ms/step - accuracy: 0.6616 - loss: 1.0768 - val_accuracy: 0.6750 - val_loss: 1.0313\n",
            "Epoch 30/100\n",
            "\u001b[1m17/17\u001b[0m \u001b[32m━━━━━━━━━━━━━━━━━━━━\u001b[0m\u001b[37m\u001b[0m \u001b[1m3s\u001b[0m 146ms/step - accuracy: 0.6723 - loss: 1.0462 - val_accuracy: 0.6833 - val_loss: 1.0022\n",
            "Epoch 31/100\n",
            "\u001b[1m17/17\u001b[0m \u001b[32m━━━━━━━━━━━━━━━━━━━━\u001b[0m\u001b[37m\u001b[0m \u001b[1m2s\u001b[0m 113ms/step - accuracy: 0.6792 - loss: 1.0194 - val_accuracy: 0.7000 - val_loss: 0.9767\n",
            "Epoch 32/100\n",
            "\u001b[1m17/17\u001b[0m \u001b[32m━━━━━━━━━━━━━━━━━━━━\u001b[0m\u001b[37m\u001b[0m \u001b[1m2s\u001b[0m 97ms/step - accuracy: 0.6816 - loss: 0.9944 - val_accuracy: 0.6917 - val_loss: 0.9528\n",
            "Epoch 33/100\n",
            "\u001b[1m17/17\u001b[0m \u001b[32m━━━━━━━━━━━━━━━━━━━━\u001b[0m\u001b[37m\u001b[0m \u001b[1m2s\u001b[0m 101ms/step - accuracy: 0.6859 - loss: 0.9705 - val_accuracy: 0.7083 - val_loss: 0.9284\n",
            "Epoch 34/100\n",
            "\u001b[1m17/17\u001b[0m \u001b[32m━━━━━━━━━━━━━━━━━━━━\u001b[0m\u001b[37m\u001b[0m \u001b[1m2s\u001b[0m 96ms/step - accuracy: 0.6871 - loss: 0.9470 - val_accuracy: 0.7250 - val_loss: 0.8997\n",
            "Epoch 35/100\n",
            "\u001b[1m17/17\u001b[0m \u001b[32m━━━━━━━━━━━━━━━━━━━━\u001b[0m\u001b[37m\u001b[0m \u001b[1m2s\u001b[0m 98ms/step - accuracy: 0.7008 - loss: 0.9235 - val_accuracy: 0.7000 - val_loss: 0.8761\n",
            "Epoch 36/100\n",
            "\u001b[1m17/17\u001b[0m \u001b[32m━━━━━━━━━━━━━━━━━━━━\u001b[0m\u001b[37m\u001b[0m \u001b[1m2s\u001b[0m 111ms/step - accuracy: 0.7068 - loss: 0.9001 - val_accuracy: 0.7000 - val_loss: 0.8528\n",
            "Epoch 37/100\n",
            "\u001b[1m17/17\u001b[0m \u001b[32m━━━━━━━━━━━━━━━━━━━━\u001b[0m\u001b[37m\u001b[0m \u001b[1m3s\u001b[0m 117ms/step - accuracy: 0.7176 - loss: 0.8786 - val_accuracy: 0.7167 - val_loss: 0.8333\n",
            "Epoch 38/100\n",
            "\u001b[1m17/17\u001b[0m \u001b[32m━━━━━━━━━━━━━━━━━━━━\u001b[0m\u001b[37m\u001b[0m \u001b[1m2s\u001b[0m 99ms/step - accuracy: 0.7175 - loss: 0.8577 - val_accuracy: 0.7167 - val_loss: 0.8130\n",
            "Epoch 39/100\n",
            "\u001b[1m17/17\u001b[0m \u001b[32m━━━━━━━━━━━━━━━━━━━━\u001b[0m\u001b[37m\u001b[0m \u001b[1m2s\u001b[0m 97ms/step - accuracy: 0.7249 - loss: 0.8380 - val_accuracy: 0.7250 - val_loss: 0.7961\n",
            "Epoch 40/100\n",
            "\u001b[1m17/17\u001b[0m \u001b[32m━━━━━━━━━━━━━━━━━━━━\u001b[0m\u001b[37m\u001b[0m \u001b[1m3s\u001b[0m 98ms/step - accuracy: 0.7283 - loss: 0.8214 - val_accuracy: 0.7167 - val_loss: 0.7827\n",
            "Epoch 41/100\n",
            "\u001b[1m17/17\u001b[0m \u001b[32m━━━━━━━━━━━━━━━━━━━━\u001b[0m\u001b[37m\u001b[0m \u001b[1m2s\u001b[0m 97ms/step - accuracy: 0.7288 - loss: 0.8050 - val_accuracy: 0.7167 - val_loss: 0.7682\n",
            "Epoch 42/100\n",
            "\u001b[1m17/17\u001b[0m \u001b[32m━━━━━━━━━━━━━━━━━━━━\u001b[0m\u001b[37m\u001b[0m \u001b[1m2s\u001b[0m 108ms/step - accuracy: 0.7339 - loss: 0.7878 - val_accuracy: 0.7333 - val_loss: 0.7555\n",
            "Epoch 43/100\n",
            "\u001b[1m17/17\u001b[0m \u001b[32m━━━━━━━━━━━━━━━━━━━━\u001b[0m\u001b[37m\u001b[0m \u001b[1m3s\u001b[0m 116ms/step - accuracy: 0.7352 - loss: 0.7732 - val_accuracy: 0.7333 - val_loss: 0.7437\n",
            "Epoch 44/100\n",
            "\u001b[1m17/17\u001b[0m \u001b[32m━━━━━━━━━━━━━━━━━━━━\u001b[0m\u001b[37m\u001b[0m \u001b[1m2s\u001b[0m 97ms/step - accuracy: 0.7429 - loss: 0.7587 - val_accuracy: 0.7417 - val_loss: 0.7328\n",
            "Epoch 45/100\n",
            "\u001b[1m17/17\u001b[0m \u001b[32m━━━━━━━━━━━━━━━━━━━━\u001b[0m\u001b[37m\u001b[0m \u001b[1m2s\u001b[0m 98ms/step - accuracy: 0.7429 - loss: 0.7437 - val_accuracy: 0.7500 - val_loss: 0.7233\n",
            "Epoch 46/100\n",
            "\u001b[1m17/17\u001b[0m \u001b[32m━━━━━━━━━━━━━━━━━━━━\u001b[0m\u001b[37m\u001b[0m \u001b[1m2s\u001b[0m 97ms/step - accuracy: 0.7464 - loss: 0.7302 - val_accuracy: 0.7833 - val_loss: 0.7117\n",
            "Epoch 47/100\n",
            "\u001b[1m17/17\u001b[0m \u001b[32m━━━━━━━━━━━━━━━━━━━━\u001b[0m\u001b[37m\u001b[0m \u001b[1m2s\u001b[0m 98ms/step - accuracy: 0.7556 - loss: 0.7167 - val_accuracy: 0.7833 - val_loss: 0.7022\n",
            "Epoch 48/100\n",
            "\u001b[1m17/17\u001b[0m \u001b[32m━━━━━━━━━━━━━━━━━━━━\u001b[0m\u001b[37m\u001b[0m \u001b[1m2s\u001b[0m 97ms/step - accuracy: 0.7632 - loss: 0.7050 - val_accuracy: 0.7917 - val_loss: 0.6916\n",
            "Epoch 49/100\n",
            "\u001b[1m17/17\u001b[0m \u001b[32m━━━━━━━━━━━━━━━━━━━━\u001b[0m\u001b[37m\u001b[0m \u001b[1m2s\u001b[0m 138ms/step - accuracy: 0.7670 - loss: 0.6928 - val_accuracy: 0.7833 - val_loss: 0.6829\n",
            "Epoch 50/100\n",
            "\u001b[1m17/17\u001b[0m \u001b[32m━━━━━━━━━━━━━━━━━━━━\u001b[0m\u001b[37m\u001b[0m \u001b[1m2s\u001b[0m 112ms/step - accuracy: 0.7706 - loss: 0.6817 - val_accuracy: 0.7917 - val_loss: 0.6726\n",
            "Epoch 51/100\n",
            "\u001b[1m17/17\u001b[0m \u001b[32m━━━━━━━━━━━━━━━━━━━━\u001b[0m\u001b[37m\u001b[0m \u001b[1m2s\u001b[0m 97ms/step - accuracy: 0.7729 - loss: 0.6703 - val_accuracy: 0.7917 - val_loss: 0.6649\n",
            "Epoch 52/100\n",
            "\u001b[1m17/17\u001b[0m \u001b[32m━━━━━━━━━━━━━━━━━━━━\u001b[0m\u001b[37m\u001b[0m \u001b[1m2s\u001b[0m 97ms/step - accuracy: 0.7751 - loss: 0.6596 - val_accuracy: 0.7917 - val_loss: 0.6558\n",
            "Epoch 53/100\n",
            "\u001b[1m17/17\u001b[0m \u001b[32m━━━━━━━━━━━━━━━━━━━━\u001b[0m\u001b[37m\u001b[0m \u001b[1m2s\u001b[0m 98ms/step - accuracy: 0.7819 - loss: 0.6494 - val_accuracy: 0.7917 - val_loss: 0.6480\n",
            "Epoch 54/100\n",
            "\u001b[1m17/17\u001b[0m \u001b[32m━━━━━━━━━━━━━━━━━━━━\u001b[0m\u001b[37m\u001b[0m \u001b[1m2s\u001b[0m 97ms/step - accuracy: 0.7834 - loss: 0.6389 - val_accuracy: 0.7917 - val_loss: 0.6405\n",
            "Epoch 55/100\n",
            "\u001b[1m17/17\u001b[0m \u001b[32m━━━━━━━━━━━━━━━━━━━━\u001b[0m\u001b[37m\u001b[0m \u001b[1m2s\u001b[0m 98ms/step - accuracy: 0.7873 - loss: 0.6295 - val_accuracy: 0.7917 - val_loss: 0.6320\n",
            "Epoch 56/100\n",
            "\u001b[1m17/17\u001b[0m \u001b[32m━━━━━━━━━━━━━━━━━━━━\u001b[0m\u001b[37m\u001b[0m \u001b[1m2s\u001b[0m 147ms/step - accuracy: 0.7937 - loss: 0.6193 - val_accuracy: 0.7917 - val_loss: 0.6241\n",
            "Epoch 57/100\n",
            "\u001b[1m17/17\u001b[0m \u001b[32m━━━━━━━━━━━━━━━━━━━━\u001b[0m\u001b[37m\u001b[0m \u001b[1m2s\u001b[0m 109ms/step - accuracy: 0.7972 - loss: 0.6100 - val_accuracy: 0.8083 - val_loss: 0.6169\n",
            "Epoch 58/100\n",
            "\u001b[1m17/17\u001b[0m \u001b[32m━━━━━━━━━━━━━━━━━━━━\u001b[0m\u001b[37m\u001b[0m \u001b[1m2s\u001b[0m 96ms/step - accuracy: 0.8007 - loss: 0.6009 - val_accuracy: 0.8083 - val_loss: 0.6098\n",
            "Epoch 59/100\n",
            "\u001b[1m17/17\u001b[0m \u001b[32m━━━━━━━━━━━━━━━━━━━━\u001b[0m\u001b[37m\u001b[0m \u001b[1m2s\u001b[0m 97ms/step - accuracy: 0.8069 - loss: 0.5920 - val_accuracy: 0.8000 - val_loss: 0.6042\n",
            "Epoch 60/100\n",
            "\u001b[1m17/17\u001b[0m \u001b[32m━━━━━━━━━━━━━━━━━━━━\u001b[0m\u001b[37m\u001b[0m \u001b[1m2s\u001b[0m 102ms/step - accuracy: 0.8148 - loss: 0.5835 - val_accuracy: 0.8083 - val_loss: 0.5982\n",
            "Epoch 61/100\n",
            "\u001b[1m17/17\u001b[0m \u001b[32m━━━━━━━━━━━━━━━━━━━━\u001b[0m\u001b[37m\u001b[0m \u001b[1m2s\u001b[0m 97ms/step - accuracy: 0.8160 - loss: 0.5750 - val_accuracy: 0.8083 - val_loss: 0.5926\n",
            "Epoch 62/100\n",
            "\u001b[1m17/17\u001b[0m \u001b[32m━━━━━━━━━━━━━━━━━━━━\u001b[0m\u001b[37m\u001b[0m \u001b[1m3s\u001b[0m 156ms/step - accuracy: 0.8179 - loss: 0.5671 - val_accuracy: 0.8167 - val_loss: 0.5867\n",
            "Epoch 63/100\n",
            "\u001b[1m17/17\u001b[0m \u001b[32m━━━━━━━━━━━━━━━━━━━━\u001b[0m\u001b[37m\u001b[0m \u001b[1m4s\u001b[0m 98ms/step - accuracy: 0.8180 - loss: 0.5591 - val_accuracy: 0.8083 - val_loss: 0.5813\n",
            "Epoch 64/100\n",
            "\u001b[1m17/17\u001b[0m \u001b[32m━━━━━━━━━━━━━━━━━━━━\u001b[0m\u001b[37m\u001b[0m \u001b[1m2s\u001b[0m 98ms/step - accuracy: 0.8195 - loss: 0.5517 - val_accuracy: 0.8167 - val_loss: 0.5752\n",
            "Epoch 65/100\n",
            "\u001b[1m17/17\u001b[0m \u001b[32m━━━━━━━━━━━━━━━━━━━━\u001b[0m\u001b[37m\u001b[0m \u001b[1m2s\u001b[0m 97ms/step - accuracy: 0.8218 - loss: 0.5441 - val_accuracy: 0.8250 - val_loss: 0.5695\n",
            "Epoch 66/100\n",
            "\u001b[1m17/17\u001b[0m \u001b[32m━━━━━━━━━━━━━━━━━━━━\u001b[0m\u001b[37m\u001b[0m \u001b[1m2s\u001b[0m 97ms/step - accuracy: 0.8278 - loss: 0.5367 - val_accuracy: 0.8167 - val_loss: 0.5645\n",
            "Epoch 67/100\n",
            "\u001b[1m17/17\u001b[0m \u001b[32m━━━━━━━━━━━━━━━━━━━━\u001b[0m\u001b[37m\u001b[0m \u001b[1m3s\u001b[0m 157ms/step - accuracy: 0.8295 - loss: 0.5297 - val_accuracy: 0.8167 - val_loss: 0.5593\n",
            "Epoch 68/100\n",
            "\u001b[1m17/17\u001b[0m \u001b[32m━━━━━━━━━━━━━━━━━━━━\u001b[0m\u001b[37m\u001b[0m \u001b[1m4s\u001b[0m 97ms/step - accuracy: 0.8321 - loss: 0.5228 - val_accuracy: 0.8167 - val_loss: 0.5547\n",
            "Epoch 69/100\n",
            "\u001b[1m17/17\u001b[0m \u001b[32m━━━━━━━━━━━━━━━━━━━━\u001b[0m\u001b[37m\u001b[0m \u001b[1m2s\u001b[0m 97ms/step - accuracy: 0.8331 - loss: 0.5159 - val_accuracy: 0.8167 - val_loss: 0.5503\n",
            "Epoch 70/100\n",
            "\u001b[1m17/17\u001b[0m \u001b[32m━━━━━━━━━━━━━━━━━━━━\u001b[0m\u001b[37m\u001b[0m \u001b[1m3s\u001b[0m 101ms/step - accuracy: 0.8341 - loss: 0.5092 - val_accuracy: 0.8167 - val_loss: 0.5461\n",
            "Epoch 71/100\n",
            "\u001b[1m17/17\u001b[0m \u001b[32m━━━━━━━━━━━━━━━━━━━━\u001b[0m\u001b[37m\u001b[0m \u001b[1m3s\u001b[0m 130ms/step - accuracy: 0.8360 - loss: 0.5028 - val_accuracy: 0.8167 - val_loss: 0.5416\n",
            "Epoch 72/100\n",
            "\u001b[1m17/17\u001b[0m \u001b[32m━━━━━━━━━━━━━━━━━━━━\u001b[0m\u001b[37m\u001b[0m \u001b[1m2s\u001b[0m 116ms/step - accuracy: 0.8377 - loss: 0.4966 - val_accuracy: 0.8250 - val_loss: 0.5372\n",
            "Epoch 73/100\n",
            "\u001b[1m17/17\u001b[0m \u001b[32m━━━━━━━━━━━━━━━━━━━━\u001b[0m\u001b[37m\u001b[0m \u001b[1m2s\u001b[0m 97ms/step - accuracy: 0.8433 - loss: 0.4903 - val_accuracy: 0.8333 - val_loss: 0.5330\n",
            "Epoch 74/100\n",
            "\u001b[1m17/17\u001b[0m \u001b[32m━━━━━━━━━━━━━━━━━━━━\u001b[0m\u001b[37m\u001b[0m \u001b[1m2s\u001b[0m 97ms/step - accuracy: 0.8448 - loss: 0.4843 - val_accuracy: 0.8333 - val_loss: 0.5299\n",
            "Epoch 75/100\n",
            "\u001b[1m17/17\u001b[0m \u001b[32m━━━━━━━━━━━━━━━━━━━━\u001b[0m\u001b[37m\u001b[0m \u001b[1m2s\u001b[0m 97ms/step - accuracy: 0.8463 - loss: 0.4783 - val_accuracy: 0.8417 - val_loss: 0.5261\n",
            "Epoch 76/100\n",
            "\u001b[1m17/17\u001b[0m \u001b[32m━━━━━━━━━━━━━━━━━━━━\u001b[0m\u001b[37m\u001b[0m \u001b[1m3s\u001b[0m 100ms/step - accuracy: 0.8517 - loss: 0.4726 - val_accuracy: 0.8500 - val_loss: 0.5219\n",
            "Epoch 77/100\n",
            "\u001b[1m17/17\u001b[0m \u001b[32m━━━━━━━━━━━━━━━━━━━━\u001b[0m\u001b[37m\u001b[0m \u001b[1m3s\u001b[0m 149ms/step - accuracy: 0.8549 - loss: 0.4669 - val_accuracy: 0.8500 - val_loss: 0.5183\n",
            "Epoch 78/100\n",
            "\u001b[1m17/17\u001b[0m \u001b[32m━━━━━━━━━━━━━━━━━━━━\u001b[0m\u001b[37m\u001b[0m \u001b[1m2s\u001b[0m 108ms/step - accuracy: 0.8588 - loss: 0.4614 - val_accuracy: 0.8583 - val_loss: 0.5146\n",
            "Epoch 79/100\n",
            "\u001b[1m17/17\u001b[0m \u001b[32m━━━━━━━━━━━━━━━━━━━━\u001b[0m\u001b[37m\u001b[0m \u001b[1m2s\u001b[0m 101ms/step - accuracy: 0.8599 - loss: 0.4559 - val_accuracy: 0.8500 - val_loss: 0.5115\n",
            "Epoch 80/100\n",
            "\u001b[1m17/17\u001b[0m \u001b[32m━━━━━━━━━━━━━━━━━━━━\u001b[0m\u001b[37m\u001b[0m \u001b[1m2s\u001b[0m 96ms/step - accuracy: 0.8639 - loss: 0.4507 - val_accuracy: 0.8500 - val_loss: 0.5084\n",
            "Epoch 81/100\n",
            "\u001b[1m17/17\u001b[0m \u001b[32m━━━━━━━━━━━━━━━━━━━━\u001b[0m\u001b[37m\u001b[0m \u001b[1m2s\u001b[0m 103ms/step - accuracy: 0.8697 - loss: 0.4456 - val_accuracy: 0.8500 - val_loss: 0.5049\n",
            "Epoch 82/100\n",
            "\u001b[1m17/17\u001b[0m \u001b[32m━━━━━━━━━━━━━━━━━━━━\u001b[0m\u001b[37m\u001b[0m \u001b[1m2s\u001b[0m 97ms/step - accuracy: 0.8731 - loss: 0.4405 - val_accuracy: 0.8583 - val_loss: 0.5021\n",
            "Epoch 83/100\n",
            "\u001b[1m17/17\u001b[0m \u001b[32m━━━━━━━━━━━━━━━━━━━━\u001b[0m\u001b[37m\u001b[0m \u001b[1m2s\u001b[0m 97ms/step - accuracy: 0.8731 - loss: 0.4357 - val_accuracy: 0.8583 - val_loss: 0.4990\n",
            "Epoch 84/100\n",
            "\u001b[1m17/17\u001b[0m \u001b[32m━━━━━━━━━━━━━━━━━━━━\u001b[0m\u001b[37m\u001b[0m \u001b[1m3s\u001b[0m 156ms/step - accuracy: 0.8734 - loss: 0.4311 - val_accuracy: 0.8583 - val_loss: 0.4962\n",
            "Epoch 85/100\n",
            "\u001b[1m17/17\u001b[0m \u001b[32m━━━━━━━━━━━━━━━━━━━━\u001b[0m\u001b[37m\u001b[0m \u001b[1m4s\u001b[0m 98ms/step - accuracy: 0.8776 - loss: 0.4262 - val_accuracy: 0.8583 - val_loss: 0.4925\n",
            "Epoch 86/100\n",
            "\u001b[1m17/17\u001b[0m \u001b[32m━━━━━━━━━━━━━━━━━━━━\u001b[0m\u001b[37m\u001b[0m \u001b[1m2s\u001b[0m 98ms/step - accuracy: 0.8793 - loss: 0.4216 - val_accuracy: 0.8583 - val_loss: 0.4894\n",
            "Epoch 87/100\n",
            "\u001b[1m17/17\u001b[0m \u001b[32m━━━━━━━━━━━━━━━━━━━━\u001b[0m\u001b[37m\u001b[0m \u001b[1m3s\u001b[0m 98ms/step - accuracy: 0.8835 - loss: 0.4171 - val_accuracy: 0.8583 - val_loss: 0.4865\n",
            "Epoch 88/100\n",
            "\u001b[1m17/17\u001b[0m \u001b[32m━━━━━━━━━━━━━━━━━━━━\u001b[0m\u001b[37m\u001b[0m \u001b[1m2s\u001b[0m 97ms/step - accuracy: 0.8840 - loss: 0.4126 - val_accuracy: 0.8583 - val_loss: 0.4833\n",
            "Epoch 89/100\n",
            "\u001b[1m17/17\u001b[0m \u001b[32m━━━━━━━━━━━━━━━━━━━━\u001b[0m\u001b[37m\u001b[0m \u001b[1m3s\u001b[0m 162ms/step - accuracy: 0.8843 - loss: 0.4083 - val_accuracy: 0.8583 - val_loss: 0.4808\n",
            "Epoch 90/100\n",
            "\u001b[1m17/17\u001b[0m \u001b[32m━━━━━━━━━━━━━━━━━━━━\u001b[0m\u001b[37m\u001b[0m \u001b[1m4s\u001b[0m 103ms/step - accuracy: 0.8846 - loss: 0.4041 - val_accuracy: 0.8583 - val_loss: 0.4786\n",
            "Epoch 91/100\n",
            "\u001b[1m17/17\u001b[0m \u001b[32m━━━━━━━━━━━━━━━━━━━━\u001b[0m\u001b[37m\u001b[0m \u001b[1m2s\u001b[0m 97ms/step - accuracy: 0.8866 - loss: 0.3998 - val_accuracy: 0.8583 - val_loss: 0.4757\n",
            "Epoch 92/100\n",
            "\u001b[1m17/17\u001b[0m \u001b[32m━━━━━━━━━━━━━━━━━━━━\u001b[0m\u001b[37m\u001b[0m \u001b[1m2s\u001b[0m 108ms/step - accuracy: 0.8878 - loss: 0.3959 - val_accuracy: 0.8583 - val_loss: 0.4729\n",
            "Epoch 93/100\n",
            "\u001b[1m17/17\u001b[0m \u001b[32m━━━━━━━━━━━━━━━━━━━━\u001b[0m\u001b[37m\u001b[0m \u001b[1m3s\u001b[0m 179ms/step - accuracy: 0.8878 - loss: 0.3921 - val_accuracy: 0.8583 - val_loss: 0.4709\n",
            "Epoch 94/100\n",
            "\u001b[1m17/17\u001b[0m \u001b[32m━━━━━━━━━━━━━━━━━━━━\u001b[0m\u001b[37m\u001b[0m \u001b[1m2s\u001b[0m 142ms/step - accuracy: 0.8872 - loss: 0.3882 - val_accuracy: 0.8583 - val_loss: 0.4682\n",
            "Epoch 95/100\n",
            "\u001b[1m17/17\u001b[0m \u001b[32m━━━━━━━━━━━━━━━━━━━━\u001b[0m\u001b[37m\u001b[0m \u001b[1m2s\u001b[0m 97ms/step - accuracy: 0.8884 - loss: 0.3844 - val_accuracy: 0.8583 - val_loss: 0.4657\n",
            "Epoch 96/100\n",
            "\u001b[1m17/17\u001b[0m \u001b[32m━━━━━━━━━━━━━━━━━━━━\u001b[0m\u001b[37m\u001b[0m \u001b[1m2s\u001b[0m 98ms/step - accuracy: 0.8884 - loss: 0.3807 - val_accuracy: 0.8583 - val_loss: 0.4642\n",
            "Epoch 97/100\n",
            "\u001b[1m17/17\u001b[0m \u001b[32m━━━━━━━━━━━━━━━━━━━━\u001b[0m\u001b[37m\u001b[0m \u001b[1m2s\u001b[0m 98ms/step - accuracy: 0.8911 - loss: 0.3772 - val_accuracy: 0.8667 - val_loss: 0.4612\n",
            "Epoch 98/100\n",
            "\u001b[1m17/17\u001b[0m \u001b[32m━━━━━━━━━━━━━━━━━━━━\u001b[0m\u001b[37m\u001b[0m \u001b[1m2s\u001b[0m 97ms/step - accuracy: 0.8907 - loss: 0.3733 - val_accuracy: 0.8667 - val_loss: 0.4586\n",
            "Epoch 99/100\n",
            "\u001b[1m17/17\u001b[0m \u001b[32m━━━━━━━━━━━━━━━━━━━━\u001b[0m\u001b[37m\u001b[0m \u001b[1m2s\u001b[0m 99ms/step - accuracy: 0.8934 - loss: 0.3698 - val_accuracy: 0.8667 - val_loss: 0.4565\n",
            "Epoch 100/100\n",
            "\u001b[1m17/17\u001b[0m \u001b[32m━━━━━━━━━━━━━━━━━━━━\u001b[0m\u001b[37m\u001b[0m \u001b[1m4s\u001b[0m 163ms/step - accuracy: 0.8935 - loss: 0.3664 - val_accuracy: 0.8667 - val_loss: 0.4548\n"
          ]
        }
      ]
    },
    {
      "cell_type": "markdown",
      "source": [
        "### History Object\n",
        "It is output of .fit() method and provides the record of all the loss and metrics and this can be done by history.history.It is a dictionary variable"
      ],
      "metadata": {
        "id": "bwGVqSrplQ42"
      }
    },
    {
      "cell_type": "code",
      "source": [
        "history.history"
      ],
      "metadata": {
        "colab": {
          "base_uri": "https://localhost:8080/"
        },
        "id": "7TfzBIKvlg3N",
        "outputId": "ebe88a3b-3cdb-4889-f9d3-d186c1ec9ff3"
      },
      "execution_count": 72,
      "outputs": [
        {
          "output_type": "execute_result",
          "data": {
            "text/plain": [
              "{'accuracy': [0.1657407432794571,\n",
              "  0.1657407432794571,\n",
              "  0.20277777314186096,\n",
              "  0.22870370745658875,\n",
              "  0.23981481790542603,\n",
              "  0.28796297311782837,\n",
              "  0.3046296238899231,\n",
              "  0.3314814865589142,\n",
              "  0.35185185074806213,\n",
              "  0.38425925374031067,\n",
              "  0.39722222089767456,\n",
              "  0.42407408356666565,\n",
              "  0.43796294927597046,\n",
              "  0.44907405972480774,\n",
              "  0.4574074149131775,\n",
              "  0.46759259700775146,\n",
              "  0.4870370328426361,\n",
              "  0.489814817905426,\n",
              "  0.49074074625968933,\n",
              "  0.5055555701255798,\n",
              "  0.5388888716697693,\n",
              "  0.5583333373069763,\n",
              "  0.5870370268821716,\n",
              "  0.6000000238418579,\n",
              "  0.6111111044883728,\n",
              "  0.6296296119689941,\n",
              "  0.6361111402511597,\n",
              "  0.6490740776062012,\n",
              "  0.6518518328666687,\n",
              "  0.6629629731178284,\n",
              "  0.6712962985038757,\n",
              "  0.6768518686294556,\n",
              "  0.6814814805984497,\n",
              "  0.6851851940155029,\n",
              "  0.6953703761100769,\n",
              "  0.7074074149131775,\n",
              "  0.7166666388511658,\n",
              "  0.7194444537162781,\n",
              "  0.7287036776542664,\n",
              "  0.7314814925193787,\n",
              "  0.7351852059364319,\n",
              "  0.739814817905426,\n",
              "  0.7444444298744202,\n",
              "  0.7518518567085266,\n",
              "  0.7518518567085266,\n",
              "  0.7574074268341064,\n",
              "  0.7648147940635681,\n",
              "  0.770370364189148,\n",
              "  0.7740740776062012,\n",
              "  0.7787036895751953,\n",
              "  0.7814815044403076,\n",
              "  0.7842592597007751,\n",
              "  0.789814829826355,\n",
              "  0.7925925850868225,\n",
              "  0.7972221970558167,\n",
              "  0.8009259104728699,\n",
              "  0.8046296238899231,\n",
              "  0.8083333373069763,\n",
              "  0.8129629492759705,\n",
              "  0.8166666626930237,\n",
              "  0.8175926208496094,\n",
              "  0.8194444179534912,\n",
              "  0.8203703761100769,\n",
              "  0.8222222328186035,\n",
              "  0.8231481313705444,\n",
              "  0.8268518447875977,\n",
              "  0.8296296000480652,\n",
              "  0.8305555582046509,\n",
              "  0.8324074149131775,\n",
              "  0.8333333134651184,\n",
              "  0.8361111283302307,\n",
              "  0.8388888835906982,\n",
              "  0.8425925970077515,\n",
              "  0.8444444537162781,\n",
              "  0.8472222089767456,\n",
              "  0.8500000238418579,\n",
              "  0.8527777791023254,\n",
              "  0.854629635810852,\n",
              "  0.8574073910713196,\n",
              "  0.8592592477798462,\n",
              "  0.8638888597488403,\n",
              "  0.8685185313224792,\n",
              "  0.8694444298744202,\n",
              "  0.8712962865829468,\n",
              "  0.8759258985519409,\n",
              "  0.8777777552604675,\n",
              "  0.8805555701255798,\n",
              "  0.8824074268341064,\n",
              "  0.8824074268341064,\n",
              "  0.8833333253860474,\n",
              "  0.885185182094574,\n",
              "  0.8870370388031006,\n",
              "  0.8870370388031006,\n",
              "  0.8861111402511597,\n",
              "  0.8879629373550415,\n",
              "  0.8879629373550415,\n",
              "  0.8888888955116272,\n",
              "  0.8907407522201538,\n",
              "  0.8925926089286804,\n",
              "  0.8935185074806213],\n",
              " 'loss': [1.7919977903366089,\n",
              "  1.7845114469528198,\n",
              "  1.7804961204528809,\n",
              "  1.776037335395813,\n",
              "  1.7707186937332153,\n",
              "  1.7643945217132568,\n",
              "  1.756978154182434,\n",
              "  1.7486611604690552,\n",
              "  1.7389318943023682,\n",
              "  1.7272096872329712,\n",
              "  1.7137880325317383,\n",
              "  1.69646155834198,\n",
              "  1.6736873388290405,\n",
              "  1.6468230485916138,\n",
              "  1.6151177883148193,\n",
              "  1.5806249380111694,\n",
              "  1.5442830324172974,\n",
              "  1.507737398147583,\n",
              "  1.4721312522888184,\n",
              "  1.4304258823394775,\n",
              "  1.3868067264556885,\n",
              "  1.343177080154419,\n",
              "  1.2968318462371826,\n",
              "  1.258050799369812,\n",
              "  1.219295620918274,\n",
              "  1.1833374500274658,\n",
              "  1.1464680433273315,\n",
              "  1.115160584449768,\n",
              "  1.0850354433059692,\n",
              "  1.0537136793136597,\n",
              "  1.026856541633606,\n",
              "  1.000566840171814,\n",
              "  0.9761526584625244,\n",
              "  0.9502248167991638,\n",
              "  0.9263826012611389,\n",
              "  0.9022099375724792,\n",
              "  0.879395067691803,\n",
              "  0.8565683960914612,\n",
              "  0.8373483419418335,\n",
              "  0.819779634475708,\n",
              "  0.8014912605285645,\n",
              "  0.7846173048019409,\n",
              "  0.7693334221839905,\n",
              "  0.7541119456291199,\n",
              "  0.7391254305839539,\n",
              "  0.7253046631813049,\n",
              "  0.7117838263511658,\n",
              "  0.699648916721344,\n",
              "  0.6875523328781128,\n",
              "  0.6762787699699402,\n",
              "  0.6647348403930664,\n",
              "  0.6540172696113586,\n",
              "  0.6439104676246643,\n",
              "  0.6332739591598511,\n",
              "  0.6240523457527161,\n",
              "  0.6139099597930908,\n",
              "  0.6048568487167358,\n",
              "  0.5957735776901245,\n",
              "  0.5870264768600464,\n",
              "  0.5783624649047852,\n",
              "  0.5700496435165405,\n",
              "  0.5621081590652466,\n",
              "  0.5540930032730103,\n",
              "  0.5468654036521912,\n",
              "  0.5392452478408813,\n",
              "  0.5320352911949158,\n",
              "  0.5250832438468933,\n",
              "  0.5181692838668823,\n",
              "  0.5114016532897949,\n",
              "  0.5048998594284058,\n",
              "  0.4985819458961487,\n",
              "  0.49246153235435486,\n",
              "  0.4862537384033203,\n",
              "  0.48038962483406067,\n",
              "  0.47455787658691406,\n",
              "  0.4688551127910614,\n",
              "  0.4633837044239044,\n",
              "  0.45791858434677124,\n",
              "  0.4526121914386749,\n",
              "  0.4475049078464508,\n",
              "  0.44233423471450806,\n",
              "  0.43729811906814575,\n",
              "  0.4325658082962036,\n",
              "  0.4278492331504822,\n",
              "  0.423051118850708,\n",
              "  0.4184033274650574,\n",
              "  0.41386494040489197,\n",
              "  0.4093940854072571,\n",
              "  0.4049205780029297,\n",
              "  0.4007212817668915,\n",
              "  0.3965413570404053,\n",
              "  0.3924673795700073,\n",
              "  0.38859501481056213,\n",
              "  0.3846757709980011,\n",
              "  0.3807706832885742,\n",
              "  0.37698864936828613,\n",
              "  0.3734847605228424,\n",
              "  0.3696368932723999,\n",
              "  0.3660981059074402,\n",
              "  0.3626208007335663],\n",
              " 'val_accuracy': [0.17499999701976776,\n",
              "  0.125,\n",
              "  0.15833333134651184,\n",
              "  0.19166666269302368,\n",
              "  0.28333333134651184,\n",
              "  0.32499998807907104,\n",
              "  0.34166666865348816,\n",
              "  0.3583333194255829,\n",
              "  0.38333332538604736,\n",
              "  0.46666666865348816,\n",
              "  0.4333333373069763,\n",
              "  0.46666666865348816,\n",
              "  0.49166667461395264,\n",
              "  0.5166666507720947,\n",
              "  0.5333333611488342,\n",
              "  0.5083333253860474,\n",
              "  0.5166666507720947,\n",
              "  0.5416666865348816,\n",
              "  0.5416666865348816,\n",
              "  0.5833333134651184,\n",
              "  0.574999988079071,\n",
              "  0.5916666388511658,\n",
              "  0.6000000238418579,\n",
              "  0.6416666507720947,\n",
              "  0.625,\n",
              "  0.625,\n",
              "  0.6499999761581421,\n",
              "  0.6666666865348816,\n",
              "  0.675000011920929,\n",
              "  0.6833333373069763,\n",
              "  0.699999988079071,\n",
              "  0.6916666626930237,\n",
              "  0.7083333134651184,\n",
              "  0.7250000238418579,\n",
              "  0.699999988079071,\n",
              "  0.699999988079071,\n",
              "  0.7166666388511658,\n",
              "  0.7166666388511658,\n",
              "  0.7250000238418579,\n",
              "  0.7166666388511658,\n",
              "  0.7166666388511658,\n",
              "  0.7333333492279053,\n",
              "  0.7333333492279053,\n",
              "  0.7416666746139526,\n",
              "  0.75,\n",
              "  0.7833333611488342,\n",
              "  0.7833333611488342,\n",
              "  0.7916666865348816,\n",
              "  0.7833333611488342,\n",
              "  0.7916666865348816,\n",
              "  0.7916666865348816,\n",
              "  0.7916666865348816,\n",
              "  0.7916666865348816,\n",
              "  0.7916666865348816,\n",
              "  0.7916666865348816,\n",
              "  0.7916666865348816,\n",
              "  0.8083333373069763,\n",
              "  0.8083333373069763,\n",
              "  0.800000011920929,\n",
              "  0.8083333373069763,\n",
              "  0.8083333373069763,\n",
              "  0.8166666626930237,\n",
              "  0.8083333373069763,\n",
              "  0.8166666626930237,\n",
              "  0.824999988079071,\n",
              "  0.8166666626930237,\n",
              "  0.8166666626930237,\n",
              "  0.8166666626930237,\n",
              "  0.8166666626930237,\n",
              "  0.8166666626930237,\n",
              "  0.8166666626930237,\n",
              "  0.824999988079071,\n",
              "  0.8333333134651184,\n",
              "  0.8333333134651184,\n",
              "  0.8416666388511658,\n",
              "  0.8500000238418579,\n",
              "  0.8500000238418579,\n",
              "  0.8583333492279053,\n",
              "  0.8500000238418579,\n",
              "  0.8500000238418579,\n",
              "  0.8500000238418579,\n",
              "  0.8583333492279053,\n",
              "  0.8583333492279053,\n",
              "  0.8583333492279053,\n",
              "  0.8583333492279053,\n",
              "  0.8583333492279053,\n",
              "  0.8583333492279053,\n",
              "  0.8583333492279053,\n",
              "  0.8583333492279053,\n",
              "  0.8583333492279053,\n",
              "  0.8583333492279053,\n",
              "  0.8583333492279053,\n",
              "  0.8583333492279053,\n",
              "  0.8583333492279053,\n",
              "  0.8583333492279053,\n",
              "  0.8583333492279053,\n",
              "  0.8666666746139526,\n",
              "  0.8666666746139526,\n",
              "  0.8666666746139526,\n",
              "  0.8666666746139526],\n",
              " 'val_loss': [1.7829502820968628,\n",
              "  1.7782175540924072,\n",
              "  1.7735122442245483,\n",
              "  1.7675265073776245,\n",
              "  1.7593960762023926,\n",
              "  1.7521045207977295,\n",
              "  1.7435946464538574,\n",
              "  1.7331385612487793,\n",
              "  1.7211025953292847,\n",
              "  1.7061235904693604,\n",
              "  1.690417766571045,\n",
              "  1.6659562587738037,\n",
              "  1.6387892961502075,\n",
              "  1.6048980951309204,\n",
              "  1.571229100227356,\n",
              "  1.533997654914856,\n",
              "  1.4962459802627563,\n",
              "  1.4586411714553833,\n",
              "  1.4163212776184082,\n",
              "  1.3713955879211426,\n",
              "  1.3293136358261108,\n",
              "  1.2858450412750244,\n",
              "  1.2433866262435913,\n",
              "  1.2039685249328613,\n",
              "  1.1627585887908936,\n",
              "  1.1294611692428589,\n",
              "  1.090837836265564,\n",
              "  1.061098337173462,\n",
              "  1.0312668085098267,\n",
              "  1.0022258758544922,\n",
              "  0.9766890406608582,\n",
              "  0.9527599811553955,\n",
              "  0.9284061789512634,\n",
              "  0.8997072577476501,\n",
              "  0.8761224150657654,\n",
              "  0.8528045415878296,\n",
              "  0.833271861076355,\n",
              "  0.8129748106002808,\n",
              "  0.7960768342018127,\n",
              "  0.7827225923538208,\n",
              "  0.768153727054596,\n",
              "  0.7554585933685303,\n",
              "  0.7437115907669067,\n",
              "  0.7327684760093689,\n",
              "  0.7232625484466553,\n",
              "  0.7117412686347961,\n",
              "  0.7021524906158447,\n",
              "  0.6916123628616333,\n",
              "  0.6828641295433044,\n",
              "  0.6725992560386658,\n",
              "  0.6648613214492798,\n",
              "  0.65583735704422,\n",
              "  0.6480033993721008,\n",
              "  0.6405061483383179,\n",
              "  0.6320436000823975,\n",
              "  0.6241265535354614,\n",
              "  0.6169499754905701,\n",
              "  0.6098263263702393,\n",
              "  0.6042461395263672,\n",
              "  0.5982228517532349,\n",
              "  0.5925655364990234,\n",
              "  0.5867478847503662,\n",
              "  0.58125239610672,\n",
              "  0.57524573802948,\n",
              "  0.5695048570632935,\n",
              "  0.5645321011543274,\n",
              "  0.5593112111091614,\n",
              "  0.5547086000442505,\n",
              "  0.5503067374229431,\n",
              "  0.5460671782493591,\n",
              "  0.5415889024734497,\n",
              "  0.5372445583343506,\n",
              "  0.5330159664154053,\n",
              "  0.5299201607704163,\n",
              "  0.5261380672454834,\n",
              "  0.52191561460495,\n",
              "  0.5183436870574951,\n",
              "  0.5146445035934448,\n",
              "  0.5114876627922058,\n",
              "  0.5083829760551453,\n",
              "  0.504891037940979,\n",
              "  0.5021464824676514,\n",
              "  0.4990140199661255,\n",
              "  0.49615567922592163,\n",
              "  0.49251556396484375,\n",
              "  0.48935791850090027,\n",
              "  0.4865034222602844,\n",
              "  0.48333510756492615,\n",
              "  0.480830579996109,\n",
              "  0.4785502254962921,\n",
              "  0.4757080674171448,\n",
              "  0.472915381193161,\n",
              "  0.47093480825424194,\n",
              "  0.46820303797721863,\n",
              "  0.46572813391685486,\n",
              "  0.46423396468162537,\n",
              "  0.4611782729625702,\n",
              "  0.4585922956466675,\n",
              "  0.4565107226371765,\n",
              "  0.4548393785953522]}"
            ]
          },
          "metadata": {},
          "execution_count": 72
        }
      ]
    },
    {
      "cell_type": "markdown",
      "source": [
        "Now let's analyse the loss of the model using history.history"
      ],
      "metadata": {
        "id": "gZidK3j_nFHk"
      }
    },
    {
      "cell_type": "code",
      "source": [
        "# The history.history[\"loss\"] entry is a dictionary with as many values as epochs that the model was trained on.\n",
        "df_loss_acc=pd.DataFrame(history.history)\n",
        "df_loss=df_loss_acc[['loss', 'val_loss']]\n",
        "df_loss.rename(columns={'loss': 'train', 'val_loss': 'validation'}, inplace=True)\n",
        "df_acc=df_loss_acc[['accuracy', 'val_accuracy']]\n",
        "df_acc.rename({'accuracy': 'train', 'val_accuracy': 'validation'}, inplace=True)\n",
        "df_loss.plot(title='Model Loss', figsize=(12, 8)).set(xlabel='Epoch', ylabel='Loss')\n",
        "df_acc.plot(title='Model Accuracy', figsize=(12, 8)).set(xlabel='Epoch', ylabel='Accuracy')\n"
      ],
      "metadata": {
        "colab": {
          "base_uri": "https://localhost:8080/",
          "height": 1000
        },
        "id": "YdrVKzDinSQm",
        "outputId": "b1ab033e-5632-4de8-9c79-9f203195707a"
      },
      "execution_count": 73,
      "outputs": [
        {
          "output_type": "stream",
          "name": "stderr",
          "text": [
            "<ipython-input-73-999a78469066>:4: SettingWithCopyWarning: \n",
            "A value is trying to be set on a copy of a slice from a DataFrame\n",
            "\n",
            "See the caveats in the documentation: https://pandas.pydata.org/pandas-docs/stable/user_guide/indexing.html#returning-a-view-versus-a-copy\n",
            "  df_loss.rename(columns={'loss': 'train', 'val_loss': 'validation'}, inplace=True)\n",
            "<ipython-input-73-999a78469066>:6: SettingWithCopyWarning: \n",
            "A value is trying to be set on a copy of a slice from a DataFrame\n",
            "\n",
            "See the caveats in the documentation: https://pandas.pydata.org/pandas-docs/stable/user_guide/indexing.html#returning-a-view-versus-a-copy\n",
            "  df_acc.rename({'accuracy': 'train', 'val_accuracy': 'validation'}, inplace=True)\n"
          ]
        },
        {
          "output_type": "execute_result",
          "data": {
            "text/plain": [
              "[Text(0.5, 0, 'Epoch'), Text(0, 0.5, 'Accuracy')]"
            ]
          },
          "metadata": {},
          "execution_count": 73
        },
        {
          "output_type": "display_data",
          "data": {
            "text/plain": [
              "<Figure size 1200x800 with 1 Axes>"
            ],
            "image/png": "[encoded data removed]"
          },
          "metadata": {}
        },
        {
          "output_type": "display_data",
          "data": {
            "text/plain": [
              "<Figure size 1200x800 with 1 Axes>"
            ],
            "image/png": "[encoded data removed]"
          },
          "metadata": {}
        }
      ]
    },
    {
      "cell_type": "code",
      "source": [],
      "metadata": {
        "id": "dKsISdJwpLsB"
      },
      "execution_count": null,
      "outputs": []
    }
  ]
}